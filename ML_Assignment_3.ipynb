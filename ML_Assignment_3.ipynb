{
  "nbformat": 4,
  "nbformat_minor": 0,
  "metadata": {
    "colab": {
      "provenance": []
    },
    "kernelspec": {
      "name": "python3",
      "display_name": "Python 3"
    },
    "language_info": {
      "name": "python"
    }
  },
  "cells": [
    {
      "cell_type": "code",
      "execution_count": null,
      "metadata": {
        "colab": {
          "base_uri": "https://localhost:8080/"
        },
        "id": "BSG68JCI6o92",
        "outputId": "ce50203e-64dc-45d1-c192-ede68d2abc9d"
      },
      "outputs": [
        {
          "output_type": "stream",
          "name": "stdout",
          "text": [
            "Requirement already satisfied: tf_keras in /usr/local/lib/python3.10/dist-packages (2.15.0)\n"
          ]
        }
      ],
      "source": [
        "!pip install tf_keras"
      ]
    },
    {
      "cell_type": "code",
      "source": [
        "# Importing libraries\n",
        "import os\n",
        "import pandas as pd\n",
        "import numpy as np\n",
        "import tensorflow as tf\n",
        "from sklearn.model_selection import train_test_split\n",
        "from sklearn.preprocessing import StandardScaler\n",
        "import matplotlib.pyplot as plt"
      ],
      "metadata": {
        "id": "ORI8Dse8684U"
      },
      "execution_count": null,
      "outputs": []
    },
    {
      "cell_type": "code",
      "source": [
        "# Load the dataset\n",
        "df = pd.read_csv('Admission_Predict_A3.csv')\n",
        "data\n"
      ],
      "metadata": {
        "colab": {
          "base_uri": "https://localhost:8080/",
          "height": 423
        },
        "id": "MhcREezh7I7K",
        "outputId": "f06d3e76-9093-49c7-da28-48b7a64bd042"
      },
      "execution_count": null,
      "outputs": [
        {
          "output_type": "execute_result",
          "data": {
            "text/plain": [
              "     Serial No.  GRE Score  TOEFL Score  University Rating  SOP  LOR  CGPA  \\\n",
              "0             1        337          118                  4  4.5  4.5  9.65   \n",
              "1             2        324          107                  4  4.0  4.5  8.87   \n",
              "2             3        316          104                  3  3.0  3.5  8.00   \n",
              "3             4        322          110                  3  3.5  2.5  8.67   \n",
              "4             5        314          103                  2  2.0  3.0  8.21   \n",
              "..          ...        ...          ...                ...  ...  ...   ...   \n",
              "495         496        332          108                  5  4.5  4.0  9.02   \n",
              "496         497        337          117                  5  5.0  5.0  9.87   \n",
              "497         498        330          120                  5  4.5  5.0  9.56   \n",
              "498         499        312          103                  4  4.0  5.0  8.43   \n",
              "499         500        327          113                  4  4.5  4.5  9.04   \n",
              "\n",
              "     Research  Chance of Admit  \n",
              "0           1             0.92  \n",
              "1           1             0.76  \n",
              "2           1             0.72  \n",
              "3           1             0.80  \n",
              "4           0             0.65  \n",
              "..        ...              ...  \n",
              "495         1             0.87  \n",
              "496         1             0.96  \n",
              "497         1             0.93  \n",
              "498         0             0.73  \n",
              "499         0             0.84  \n",
              "\n",
              "[500 rows x 9 columns]"
            ],
            "text/html": [
              "\n",
              "  <div id=\"df-1aa8fc46-ffb2-4f48-9fe7-c6a23e9f61f6\" class=\"colab-df-container\">\n",
              "    <div>\n",
              "<style scoped>\n",
              "    .dataframe tbody tr th:only-of-type {\n",
              "        vertical-align: middle;\n",
              "    }\n",
              "\n",
              "    .dataframe tbody tr th {\n",
              "        vertical-align: top;\n",
              "    }\n",
              "\n",
              "    .dataframe thead th {\n",
              "        text-align: right;\n",
              "    }\n",
              "</style>\n",
              "<table border=\"1\" class=\"dataframe\">\n",
              "  <thead>\n",
              "    <tr style=\"text-align: right;\">\n",
              "      <th></th>\n",
              "      <th>Serial No.</th>\n",
              "      <th>GRE Score</th>\n",
              "      <th>TOEFL Score</th>\n",
              "      <th>University Rating</th>\n",
              "      <th>SOP</th>\n",
              "      <th>LOR</th>\n",
              "      <th>CGPA</th>\n",
              "      <th>Research</th>\n",
              "      <th>Chance of Admit</th>\n",
              "    </tr>\n",
              "  </thead>\n",
              "  <tbody>\n",
              "    <tr>\n",
              "      <th>0</th>\n",
              "      <td>1</td>\n",
              "      <td>337</td>\n",
              "      <td>118</td>\n",
              "      <td>4</td>\n",
              "      <td>4.5</td>\n",
              "      <td>4.5</td>\n",
              "      <td>9.65</td>\n",
              "      <td>1</td>\n",
              "      <td>0.92</td>\n",
              "    </tr>\n",
              "    <tr>\n",
              "      <th>1</th>\n",
              "      <td>2</td>\n",
              "      <td>324</td>\n",
              "      <td>107</td>\n",
              "      <td>4</td>\n",
              "      <td>4.0</td>\n",
              "      <td>4.5</td>\n",
              "      <td>8.87</td>\n",
              "      <td>1</td>\n",
              "      <td>0.76</td>\n",
              "    </tr>\n",
              "    <tr>\n",
              "      <th>2</th>\n",
              "      <td>3</td>\n",
              "      <td>316</td>\n",
              "      <td>104</td>\n",
              "      <td>3</td>\n",
              "      <td>3.0</td>\n",
              "      <td>3.5</td>\n",
              "      <td>8.00</td>\n",
              "      <td>1</td>\n",
              "      <td>0.72</td>\n",
              "    </tr>\n",
              "    <tr>\n",
              "      <th>3</th>\n",
              "      <td>4</td>\n",
              "      <td>322</td>\n",
              "      <td>110</td>\n",
              "      <td>3</td>\n",
              "      <td>3.5</td>\n",
              "      <td>2.5</td>\n",
              "      <td>8.67</td>\n",
              "      <td>1</td>\n",
              "      <td>0.80</td>\n",
              "    </tr>\n",
              "    <tr>\n",
              "      <th>4</th>\n",
              "      <td>5</td>\n",
              "      <td>314</td>\n",
              "      <td>103</td>\n",
              "      <td>2</td>\n",
              "      <td>2.0</td>\n",
              "      <td>3.0</td>\n",
              "      <td>8.21</td>\n",
              "      <td>0</td>\n",
              "      <td>0.65</td>\n",
              "    </tr>\n",
              "    <tr>\n",
              "      <th>...</th>\n",
              "      <td>...</td>\n",
              "      <td>...</td>\n",
              "      <td>...</td>\n",
              "      <td>...</td>\n",
              "      <td>...</td>\n",
              "      <td>...</td>\n",
              "      <td>...</td>\n",
              "      <td>...</td>\n",
              "      <td>...</td>\n",
              "    </tr>\n",
              "    <tr>\n",
              "      <th>495</th>\n",
              "      <td>496</td>\n",
              "      <td>332</td>\n",
              "      <td>108</td>\n",
              "      <td>5</td>\n",
              "      <td>4.5</td>\n",
              "      <td>4.0</td>\n",
              "      <td>9.02</td>\n",
              "      <td>1</td>\n",
              "      <td>0.87</td>\n",
              "    </tr>\n",
              "    <tr>\n",
              "      <th>496</th>\n",
              "      <td>497</td>\n",
              "      <td>337</td>\n",
              "      <td>117</td>\n",
              "      <td>5</td>\n",
              "      <td>5.0</td>\n",
              "      <td>5.0</td>\n",
              "      <td>9.87</td>\n",
              "      <td>1</td>\n",
              "      <td>0.96</td>\n",
              "    </tr>\n",
              "    <tr>\n",
              "      <th>497</th>\n",
              "      <td>498</td>\n",
              "      <td>330</td>\n",
              "      <td>120</td>\n",
              "      <td>5</td>\n",
              "      <td>4.5</td>\n",
              "      <td>5.0</td>\n",
              "      <td>9.56</td>\n",
              "      <td>1</td>\n",
              "      <td>0.93</td>\n",
              "    </tr>\n",
              "    <tr>\n",
              "      <th>498</th>\n",
              "      <td>499</td>\n",
              "      <td>312</td>\n",
              "      <td>103</td>\n",
              "      <td>4</td>\n",
              "      <td>4.0</td>\n",
              "      <td>5.0</td>\n",
              "      <td>8.43</td>\n",
              "      <td>0</td>\n",
              "      <td>0.73</td>\n",
              "    </tr>\n",
              "    <tr>\n",
              "      <th>499</th>\n",
              "      <td>500</td>\n",
              "      <td>327</td>\n",
              "      <td>113</td>\n",
              "      <td>4</td>\n",
              "      <td>4.5</td>\n",
              "      <td>4.5</td>\n",
              "      <td>9.04</td>\n",
              "      <td>0</td>\n",
              "      <td>0.84</td>\n",
              "    </tr>\n",
              "  </tbody>\n",
              "</table>\n",
              "<p>500 rows × 9 columns</p>\n",
              "</div>\n",
              "    <div class=\"colab-df-buttons\">\n",
              "\n",
              "  <div class=\"colab-df-container\">\n",
              "    <button class=\"colab-df-convert\" onclick=\"convertToInteractive('df-1aa8fc46-ffb2-4f48-9fe7-c6a23e9f61f6')\"\n",
              "            title=\"Convert this dataframe to an interactive table.\"\n",
              "            style=\"display:none;\">\n",
              "\n",
              "  <svg xmlns=\"http://www.w3.org/2000/svg\" height=\"24px\" viewBox=\"0 -960 960 960\">\n",
              "    <path d=\"M120-120v-720h720v720H120Zm60-500h600v-160H180v160Zm220 220h160v-160H400v160Zm0 220h160v-160H400v160ZM180-400h160v-160H180v160Zm440 0h160v-160H620v160ZM180-180h160v-160H180v160Zm440 0h160v-160H620v160Z\"/>\n",
              "  </svg>\n",
              "    </button>\n",
              "\n",
              "  <style>\n",
              "    .colab-df-container {\n",
              "      display:flex;\n",
              "      gap: 12px;\n",
              "    }\n",
              "\n",
              "    .colab-df-convert {\n",
              "      background-color: #E8F0FE;\n",
              "      border: none;\n",
              "      border-radius: 50%;\n",
              "      cursor: pointer;\n",
              "      display: none;\n",
              "      fill: #1967D2;\n",
              "      height: 32px;\n",
              "      padding: 0 0 0 0;\n",
              "      width: 32px;\n",
              "    }\n",
              "\n",
              "    .colab-df-convert:hover {\n",
              "      background-color: #E2EBFA;\n",
              "      box-shadow: 0px 1px 2px rgba(60, 64, 67, 0.3), 0px 1px 3px 1px rgba(60, 64, 67, 0.15);\n",
              "      fill: #174EA6;\n",
              "    }\n",
              "\n",
              "    .colab-df-buttons div {\n",
              "      margin-bottom: 4px;\n",
              "    }\n",
              "\n",
              "    [theme=dark] .colab-df-convert {\n",
              "      background-color: #3B4455;\n",
              "      fill: #D2E3FC;\n",
              "    }\n",
              "\n",
              "    [theme=dark] .colab-df-convert:hover {\n",
              "      background-color: #434B5C;\n",
              "      box-shadow: 0px 1px 3px 1px rgba(0, 0, 0, 0.15);\n",
              "      filter: drop-shadow(0px 1px 2px rgba(0, 0, 0, 0.3));\n",
              "      fill: #FFFFFF;\n",
              "    }\n",
              "  </style>\n",
              "\n",
              "    <script>\n",
              "      const buttonEl =\n",
              "        document.querySelector('#df-1aa8fc46-ffb2-4f48-9fe7-c6a23e9f61f6 button.colab-df-convert');\n",
              "      buttonEl.style.display =\n",
              "        google.colab.kernel.accessAllowed ? 'block' : 'none';\n",
              "\n",
              "      async function convertToInteractive(key) {\n",
              "        const element = document.querySelector('#df-1aa8fc46-ffb2-4f48-9fe7-c6a23e9f61f6');\n",
              "        const dataTable =\n",
              "          await google.colab.kernel.invokeFunction('convertToInteractive',\n",
              "                                                    [key], {});\n",
              "        if (!dataTable) return;\n",
              "\n",
              "        const docLinkHtml = 'Like what you see? Visit the ' +\n",
              "          '<a target=\"_blank\" href=https://colab.research.google.com/notebooks/data_table.ipynb>data table notebook</a>'\n",
              "          + ' to learn more about interactive tables.';\n",
              "        element.innerHTML = '';\n",
              "        dataTable['output_type'] = 'display_data';\n",
              "        await google.colab.output.renderOutput(dataTable, element);\n",
              "        const docLink = document.createElement('div');\n",
              "        docLink.innerHTML = docLinkHtml;\n",
              "        element.appendChild(docLink);\n",
              "      }\n",
              "    </script>\n",
              "  </div>\n",
              "\n",
              "\n",
              "<div id=\"df-5ebde0f8-d15c-439e-8416-1ccc87600bc6\">\n",
              "  <button class=\"colab-df-quickchart\" onclick=\"quickchart('df-5ebde0f8-d15c-439e-8416-1ccc87600bc6')\"\n",
              "            title=\"Suggest charts\"\n",
              "            style=\"display:none;\">\n",
              "\n",
              "<svg xmlns=\"http://www.w3.org/2000/svg\" height=\"24px\"viewBox=\"0 0 24 24\"\n",
              "     width=\"24px\">\n",
              "    <g>\n",
              "        <path d=\"M19 3H5c-1.1 0-2 .9-2 2v14c0 1.1.9 2 2 2h14c1.1 0 2-.9 2-2V5c0-1.1-.9-2-2-2zM9 17H7v-7h2v7zm4 0h-2V7h2v10zm4 0h-2v-4h2v4z\"/>\n",
              "    </g>\n",
              "</svg>\n",
              "  </button>\n",
              "\n",
              "<style>\n",
              "  .colab-df-quickchart {\n",
              "      --bg-color: #E8F0FE;\n",
              "      --fill-color: #1967D2;\n",
              "      --hover-bg-color: #E2EBFA;\n",
              "      --hover-fill-color: #174EA6;\n",
              "      --disabled-fill-color: #AAA;\n",
              "      --disabled-bg-color: #DDD;\n",
              "  }\n",
              "\n",
              "  [theme=dark] .colab-df-quickchart {\n",
              "      --bg-color: #3B4455;\n",
              "      --fill-color: #D2E3FC;\n",
              "      --hover-bg-color: #434B5C;\n",
              "      --hover-fill-color: #FFFFFF;\n",
              "      --disabled-bg-color: #3B4455;\n",
              "      --disabled-fill-color: #666;\n",
              "  }\n",
              "\n",
              "  .colab-df-quickchart {\n",
              "    background-color: var(--bg-color);\n",
              "    border: none;\n",
              "    border-radius: 50%;\n",
              "    cursor: pointer;\n",
              "    display: none;\n",
              "    fill: var(--fill-color);\n",
              "    height: 32px;\n",
              "    padding: 0;\n",
              "    width: 32px;\n",
              "  }\n",
              "\n",
              "  .colab-df-quickchart:hover {\n",
              "    background-color: var(--hover-bg-color);\n",
              "    box-shadow: 0 1px 2px rgba(60, 64, 67, 0.3), 0 1px 3px 1px rgba(60, 64, 67, 0.15);\n",
              "    fill: var(--button-hover-fill-color);\n",
              "  }\n",
              "\n",
              "  .colab-df-quickchart-complete:disabled,\n",
              "  .colab-df-quickchart-complete:disabled:hover {\n",
              "    background-color: var(--disabled-bg-color);\n",
              "    fill: var(--disabled-fill-color);\n",
              "    box-shadow: none;\n",
              "  }\n",
              "\n",
              "  .colab-df-spinner {\n",
              "    border: 2px solid var(--fill-color);\n",
              "    border-color: transparent;\n",
              "    border-bottom-color: var(--fill-color);\n",
              "    animation:\n",
              "      spin 1s steps(1) infinite;\n",
              "  }\n",
              "\n",
              "  @keyframes spin {\n",
              "    0% {\n",
              "      border-color: transparent;\n",
              "      border-bottom-color: var(--fill-color);\n",
              "      border-left-color: var(--fill-color);\n",
              "    }\n",
              "    20% {\n",
              "      border-color: transparent;\n",
              "      border-left-color: var(--fill-color);\n",
              "      border-top-color: var(--fill-color);\n",
              "    }\n",
              "    30% {\n",
              "      border-color: transparent;\n",
              "      border-left-color: var(--fill-color);\n",
              "      border-top-color: var(--fill-color);\n",
              "      border-right-color: var(--fill-color);\n",
              "    }\n",
              "    40% {\n",
              "      border-color: transparent;\n",
              "      border-right-color: var(--fill-color);\n",
              "      border-top-color: var(--fill-color);\n",
              "    }\n",
              "    60% {\n",
              "      border-color: transparent;\n",
              "      border-right-color: var(--fill-color);\n",
              "    }\n",
              "    80% {\n",
              "      border-color: transparent;\n",
              "      border-right-color: var(--fill-color);\n",
              "      border-bottom-color: var(--fill-color);\n",
              "    }\n",
              "    90% {\n",
              "      border-color: transparent;\n",
              "      border-bottom-color: var(--fill-color);\n",
              "    }\n",
              "  }\n",
              "</style>\n",
              "\n",
              "  <script>\n",
              "    async function quickchart(key) {\n",
              "      const quickchartButtonEl =\n",
              "        document.querySelector('#' + key + ' button');\n",
              "      quickchartButtonEl.disabled = true;  // To prevent multiple clicks.\n",
              "      quickchartButtonEl.classList.add('colab-df-spinner');\n",
              "      try {\n",
              "        const charts = await google.colab.kernel.invokeFunction(\n",
              "            'suggestCharts', [key], {});\n",
              "      } catch (error) {\n",
              "        console.error('Error during call to suggestCharts:', error);\n",
              "      }\n",
              "      quickchartButtonEl.classList.remove('colab-df-spinner');\n",
              "      quickchartButtonEl.classList.add('colab-df-quickchart-complete');\n",
              "    }\n",
              "    (() => {\n",
              "      let quickchartButtonEl =\n",
              "        document.querySelector('#df-5ebde0f8-d15c-439e-8416-1ccc87600bc6 button');\n",
              "      quickchartButtonEl.style.display =\n",
              "        google.colab.kernel.accessAllowed ? 'block' : 'none';\n",
              "    })();\n",
              "  </script>\n",
              "</div>\n",
              "    </div>\n",
              "  </div>\n"
            ],
            "application/vnd.google.colaboratory.intrinsic+json": {
              "type": "dataframe",
              "variable_name": "data",
              "summary": "{\n  \"name\": \"data\",\n  \"rows\": 500,\n  \"fields\": [\n    {\n      \"column\": \"Serial No.\",\n      \"properties\": {\n        \"dtype\": \"number\",\n        \"std\": 144,\n        \"min\": 1,\n        \"max\": 500,\n        \"num_unique_values\": 500,\n        \"samples\": [\n          362,\n          74,\n          375\n        ],\n        \"semantic_type\": \"\",\n        \"description\": \"\"\n      }\n    },\n    {\n      \"column\": \"GRE Score\",\n      \"properties\": {\n        \"dtype\": \"number\",\n        \"std\": 11,\n        \"min\": 290,\n        \"max\": 340,\n        \"num_unique_values\": 49,\n        \"samples\": [\n          307,\n          335,\n          297\n        ],\n        \"semantic_type\": \"\",\n        \"description\": \"\"\n      }\n    },\n    {\n      \"column\": \"TOEFL Score\",\n      \"properties\": {\n        \"dtype\": \"number\",\n        \"std\": 6,\n        \"min\": 92,\n        \"max\": 120,\n        \"num_unique_values\": 29,\n        \"samples\": [\n          94,\n          119,\n          112\n        ],\n        \"semantic_type\": \"\",\n        \"description\": \"\"\n      }\n    },\n    {\n      \"column\": \"University Rating\",\n      \"properties\": {\n        \"dtype\": \"number\",\n        \"std\": 1,\n        \"min\": 1,\n        \"max\": 5,\n        \"num_unique_values\": 5,\n        \"samples\": [\n          3,\n          1,\n          2\n        ],\n        \"semantic_type\": \"\",\n        \"description\": \"\"\n      }\n    },\n    {\n      \"column\": \"SOP\",\n      \"properties\": {\n        \"dtype\": \"number\",\n        \"std\": 0.9910036207566072,\n        \"min\": 1.0,\n        \"max\": 5.0,\n        \"num_unique_values\": 9,\n        \"samples\": [\n          1.0,\n          4.0,\n          5.0\n        ],\n        \"semantic_type\": \"\",\n        \"description\": \"\"\n      }\n    },\n    {\n      \"column\": \"LOR\",\n      \"properties\": {\n        \"dtype\": \"number\",\n        \"std\": 0.9254495738978193,\n        \"min\": 1.0,\n        \"max\": 5.0,\n        \"num_unique_values\": 9,\n        \"samples\": [\n          5.0,\n          3.5,\n          1.5\n        ],\n        \"semantic_type\": \"\",\n        \"description\": \"\"\n      }\n    },\n    {\n      \"column\": \"CGPA\",\n      \"properties\": {\n        \"dtype\": \"number\",\n        \"std\": 0.6048128003332054,\n        \"min\": 6.8,\n        \"max\": 9.92,\n        \"num_unique_values\": 184,\n        \"samples\": [\n          9.6,\n          8.9,\n          8.24\n        ],\n        \"semantic_type\": \"\",\n        \"description\": \"\"\n      }\n    },\n    {\n      \"column\": \"Research\",\n      \"properties\": {\n        \"dtype\": \"number\",\n        \"std\": 0,\n        \"min\": 0,\n        \"max\": 1,\n        \"num_unique_values\": 2,\n        \"samples\": [\n          0,\n          1\n        ],\n        \"semantic_type\": \"\",\n        \"description\": \"\"\n      }\n    },\n    {\n      \"column\": \"Chance of Admit\",\n      \"properties\": {\n        \"dtype\": \"number\",\n        \"std\": 0.14114040395030228,\n        \"min\": 0.34,\n        \"max\": 0.97,\n        \"num_unique_values\": 61,\n        \"samples\": [\n          0.92,\n          0.9\n        ],\n        \"semantic_type\": \"\",\n        \"description\": \"\"\n      }\n    }\n  ]\n}"
            }
          },
          "metadata": {},
          "execution_count": 6
        }
      ]
    },
    {
      "cell_type": "code",
      "source": [
        "# Extracting features and target variable\n",
        "X = df.drop(['Serial No.', 'Chance of Admit'], axis=1)\n",
        "y = df['Chance of Admit']\n",
        "\n",
        "# Scaling using StandardScaler\n",
        "scaler = StandardScaler()\n",
        "X_scaled = scaler.fit_transform(X)\n",
        "\n",
        "# Splitting into training and testing sets\n",
        "X_train, X_test, y_train, y_test = train_test_split(X_scaled, y, test_size=0.2, random_state=42)\n"
      ],
      "metadata": {
        "id": "V-ui8d5z7OE6"
      },
      "execution_count": null,
      "outputs": []
    },
    {
      "cell_type": "code",
      "source": [
        "# Convert data to TensorFlow tensors\n",
        "X_train_tensor = tf.constant(X_train, dtype=tf.float32)\n",
        "y_train_tensor = tf.constant(y_train.values.reshape(-1, 1), dtype=tf.float32)\n",
        "\n",
        "# Linear Regression\n",
        "# Initialize weights and bias\n",
        "W = tf.Variable(tf.random.normal(shape=(X_train.shape[1], 1)))\n",
        "b = tf.Variable(tf.random.normal(shape=(1,)))"
      ],
      "metadata": {
        "id": "3iA4wJfD7ikQ"
      },
      "execution_count": null,
      "outputs": []
    },
    {
      "cell_type": "code",
      "source": [
        "# Define linear regression model\n",
        "def linear_regression(X):\n",
        "    return tf.matmul(X, W) + b\n",
        "\n",
        "# Define mean squared error loss function\n",
        "def mean_squared_error(y_true, y_pred):\n",
        "    return tf.reduce_mean(tf.square(y_true - y_pred))\n",
        "\n",
        "# Stochastic Gradient Descent (SGD) optimizer\n",
        "optimizer = tf.optimizers.SGD(learning_rate=0.01)"
      ],
      "metadata": {
        "id": "Vf8WyoyO7oJ5"
      },
      "execution_count": null,
      "outputs": []
    },
    {
      "cell_type": "code",
      "source": [
        "# Training the linear regression model\n",
        "epochs = 1000\n",
        "for epoch in range(epochs):\n",
        "    with tf.GradientTape() as tape:\n",
        "        predictions = linear_regression(X_train_tensor)\n",
        "        loss = mean_squared_error(y_train_tensor, predictions)\n",
        "    gradients = tape.gradient(loss, [W, b])\n",
        "    optimizer.apply_gradients(zip(gradients, [W, b]))\n",
        "    if (epoch + 1) % 50 == 0:\n",
        "        print(f\"Epoch {epoch + 1}, Loss: {loss.numpy()}\")\n"
      ],
      "metadata": {
        "colab": {
          "base_uri": "https://localhost:8080/"
        },
        "id": "ecMdbrEv7poR",
        "outputId": "d76ee2d1-a547-4eb8-b066-8696526b5d8e"
      },
      "execution_count": null,
      "outputs": [
        {
          "output_type": "stream",
          "name": "stdout",
          "text": [
            "Epoch 50, Loss: 0.003526928136125207\n",
            "Epoch 100, Loss: 0.0035268357023596764\n",
            "Epoch 150, Loss: 0.0035267656203359365\n",
            "Epoch 200, Loss: 0.0035267132334411144\n",
            "Epoch 250, Loss: 0.003526673885062337\n",
            "Epoch 300, Loss: 0.003526645014062524\n",
            "Epoch 350, Loss: 0.0035266224294900894\n",
            "Epoch 400, Loss: 0.0035266063641756773\n",
            "Epoch 450, Loss: 0.0035265935584902763\n",
            "Epoch 500, Loss: 0.0035265840124338865\n",
            "Epoch 550, Loss: 0.0035265767946839333\n",
            "Epoch 600, Loss: 0.003526571672409773\n",
            "Epoch 650, Loss: 0.0035265677142888308\n",
            "Epoch 700, Loss: 0.003526564920321107\n",
            "Epoch 750, Loss: 0.0035265623591840267\n",
            "Epoch 800, Loss: 0.003526560729369521\n",
            "Epoch 850, Loss: 0.0035265590995550156\n",
            "Epoch 900, Loss: 0.0035265586338937283\n",
            "Epoch 950, Loss: 0.0035265579354017973\n",
            "Epoch 1000, Loss: 0.0035265570040792227\n"
          ]
        }
      ]
    },
    {
      "cell_type": "code",
      "source": [
        "# Evaluate the trained linear regression model\n",
        "y_pred_linear = linear_regression(X_test_tensor)\n",
        "\n",
        "# Define a threshold for correctness\n",
        "threshold = 0.1  # Adjust as needed\n",
        "\n",
        "# Calculate accuracy based on the threshold\n",
        "correct_predictions = tf.abs(y_pred_linear - y_test.values.reshape(-1, 1)) <= threshold\n",
        "accuracy_linear = tf.reduce_mean(tf.cast(correct_predictions, tf.float32))\n",
        "print(f\"Accuracy: {accuracy_linear.numpy()}\")\n"
      ],
      "metadata": {
        "colab": {
          "base_uri": "https://localhost:8080/"
        },
        "id": "7VYsFMbDLMun",
        "outputId": "8ee6e353-e900-4948-cae8-9ad2ff5ce899"
      },
      "execution_count": null,
      "outputs": [
        {
          "output_type": "stream",
          "name": "stdout",
          "text": [
            "Accuracy: 0.8899999856948853\n"
          ]
        }
      ]
    },
    {
      "cell_type": "code",
      "source": [
        "# Plotting actual vs predicted probabilities\n",
        "plt.scatter(y_test, y_pred)\n",
        "plt.xlabel('Actual Probability')\n",
        "plt.ylabel('Predicted Probability')\n",
        "plt.title('Actual vs Predicted Probabilities (Linear Regression)')\n",
        "plt.show()"
      ],
      "metadata": {
        "colab": {
          "base_uri": "https://localhost:8080/",
          "height": 472
        },
        "id": "TVellFxE7yCG",
        "outputId": "7255740f-c326-409a-8b4d-daae5527b131"
      },
      "execution_count": null,
      "outputs": [
        {
          "output_type": "display_data",
          "data": {
            "text/plain": [
              "<Figure size 640x480 with 1 Axes>"
            ],
            "image/png": "[encoded data removed]"
          },
          "metadata": {}
        }
      ]
    },
    {
      "cell_type": "code",
      "source": [
        "# Logistic Regression with Binning\n",
        "# Binning process\n",
        "bins = [0.3, 0.5, 0.7, 1.0]\n",
        "labels = ['Low', 'Medium', 'High']\n",
        "y_binned = pd.cut(y, bins=bins, labels=labels)\n",
        "\n",
        "# Convert labels to numerical values\n",
        "y_binned = pd.get_dummies(y_binned)\n"
      ],
      "metadata": {
        "id": "XXB7EAWl72zE"
      },
      "execution_count": null,
      "outputs": []
    },
    {
      "cell_type": "code",
      "source": [
        "# Splitting into training and testing sets for logistic regression\n",
        "X_train_log, X_test_log, y_train_log, y_test_log = train_test_split(X_scaled, y_binned, test_size=0.2, random_state=42)\n",
        "\n",
        "# Convert data to TensorFlow tensors for logistic regression\n",
        "X_train_tensor_log = tf.constant(X_train_log, dtype=tf.float32)\n",
        "y_train_tensor_log = tf.constant(y_train_log.values, dtype=tf.float32)\n",
        "\n",
        "# Logistic Regression\n",
        "# Initialize weights and bias for logistic regression\n",
        "W_log = tf.Variable(tf.random.normal(shape=(X_train_log.shape[1], 3)))\n",
        "b_log = tf.Variable(tf.random.normal(shape=(3,)))"
      ],
      "metadata": {
        "id": "Ua9jyvqd8A4x"
      },
      "execution_count": null,
      "outputs": []
    },
    {
      "cell_type": "code",
      "source": [
        "# Define logistic regression model\n",
        "def logistic_regression(X):\n",
        "    return tf.nn.softmax(tf.matmul(X, W_log) + b_log)\n",
        "\n",
        "# Define cross-entropy loss function\n",
        "def cross_entropy_loss(y_true, y_pred):\n",
        "    return tf.reduce_mean(tf.nn.softmax_cross_entropy_with_logits(labels=y_true, logits=y_pred))\n",
        "\n",
        "# Stochastic Gradient Descent (SGD) optimizer for logistic regression\n",
        "optimizer_log = tf.optimizers.SGD(learning_rate=0.01)\n"
      ],
      "metadata": {
        "id": "-GxmSAUR8Hz8"
      },
      "execution_count": null,
      "outputs": []
    },
    {
      "cell_type": "code",
      "source": [
        "# Training the logistic regression model\n",
        "epochs_log = 100\n",
        "for epoch in range(epochs_log):\n",
        "    with tf.GradientTape() as tape_log:\n",
        "        predictions_log = logistic_regression(X_train_tensor_log)\n",
        "        loss_log = cross_entropy_loss(y_train_tensor_log, predictions_log)\n",
        "    gradients_log = tape_log.gradient(loss_log, [W_log, b_log])\n",
        "    optimizer_log.apply_gradients(zip(gradients_log, [W_log, b_log]))\n",
        "    print(f\"Epoch {epoch + 1}/{epochs_log}, Loss: {loss_log.numpy()}\")\n"
      ],
      "metadata": {
        "colab": {
          "base_uri": "https://localhost:8080/"
        },
        "id": "Q1AoGo3b8OID",
        "outputId": "c218f8ba-5013-4841-a94e-cdc59d273eca"
      },
      "execution_count": null,
      "outputs": [
        {
          "output_type": "stream",
          "name": "stdout",
          "text": [
            "Epoch 1/100, Loss: 0.7925177216529846\n",
            "Epoch 2/100, Loss: 0.7924983501434326\n",
            "Epoch 3/100, Loss: 0.7924789190292358\n",
            "Epoch 4/100, Loss: 0.7924595475196838\n",
            "Epoch 5/100, Loss: 0.7924401760101318\n",
            "Epoch 6/100, Loss: 0.7924208045005798\n",
            "Epoch 7/100, Loss: 0.7924014329910278\n",
            "Epoch 8/100, Loss: 0.7923820614814758\n",
            "Epoch 9/100, Loss: 0.7923627495765686\n",
            "Epoch 10/100, Loss: 0.7923434376716614\n",
            "Epoch 11/100, Loss: 0.7923241257667542\n",
            "Epoch 12/100, Loss: 0.7923048138618469\n",
            "Epoch 13/100, Loss: 0.7922856211662292\n",
            "Epoch 14/100, Loss: 0.792266309261322\n",
            "Epoch 15/100, Loss: 0.7922470569610596\n",
            "Epoch 16/100, Loss: 0.7922278642654419\n",
            "Epoch 17/100, Loss: 0.792208731174469\n",
            "Epoch 18/100, Loss: 0.7921894788742065\n",
            "Epoch 19/100, Loss: 0.7921702861785889\n",
            "Epoch 20/100, Loss: 0.7921510934829712\n",
            "Epoch 21/100, Loss: 0.7921319603919983\n",
            "Epoch 22/100, Loss: 0.7921127080917358\n",
            "Epoch 23/100, Loss: 0.7920936346054077\n",
            "Epoch 24/100, Loss: 0.7920745611190796\n",
            "Epoch 25/100, Loss: 0.7920554280281067\n",
            "Epoch 26/100, Loss: 0.7920362949371338\n",
            "Epoch 27/100, Loss: 0.7920173406600952\n",
            "Epoch 28/100, Loss: 0.7919982075691223\n",
            "Epoch 29/100, Loss: 0.7919791340827942\n",
            "Epoch 30/100, Loss: 0.7919601202011108\n",
            "Epoch 31/100, Loss: 0.7919411659240723\n",
            "Epoch 32/100, Loss: 0.7919221520423889\n",
            "Epoch 33/100, Loss: 0.7919030785560608\n",
            "Epoch 34/100, Loss: 0.791884183883667\n",
            "Epoch 35/100, Loss: 0.7918652296066284\n",
            "Epoch 36/100, Loss: 0.7918463349342346\n",
            "Epoch 37/100, Loss: 0.7918273210525513\n",
            "Epoch 38/100, Loss: 0.7918083667755127\n",
            "Epoch 39/100, Loss: 0.7917894721031189\n",
            "Epoch 40/100, Loss: 0.7917705774307251\n",
            "Epoch 41/100, Loss: 0.7917516827583313\n",
            "Epoch 42/100, Loss: 0.7917328476905823\n",
            "Epoch 43/100, Loss: 0.7917139530181885\n",
            "Epoch 44/100, Loss: 0.7916951775550842\n",
            "Epoch 45/100, Loss: 0.7916763424873352\n",
            "Epoch 46/100, Loss: 0.791657567024231\n",
            "Epoch 47/100, Loss: 0.7916387915611267\n",
            "Epoch 48/100, Loss: 0.7916200160980225\n",
            "Epoch 49/100, Loss: 0.7916011810302734\n",
            "Epoch 50/100, Loss: 0.791582465171814\n",
            "Epoch 51/100, Loss: 0.7915636301040649\n",
            "Epoch 52/100, Loss: 0.7915449738502502\n",
            "Epoch 53/100, Loss: 0.791526198387146\n",
            "Epoch 54/100, Loss: 0.7915075421333313\n",
            "Epoch 55/100, Loss: 0.7914888262748718\n",
            "Epoch 56/100, Loss: 0.7914701700210571\n",
            "Epoch 57/100, Loss: 0.7914515733718872\n",
            "Epoch 58/100, Loss: 0.791432797908783\n",
            "Epoch 59/100, Loss: 0.791414201259613\n",
            "Epoch 60/100, Loss: 0.7913955450057983\n",
            "Epoch 61/100, Loss: 0.7913769483566284\n",
            "Epoch 62/100, Loss: 0.7913584113121033\n",
            "Epoch 63/100, Loss: 0.7913396954536438\n",
            "Epoch 64/100, Loss: 0.7913212776184082\n",
            "Epoch 65/100, Loss: 0.7913026213645935\n",
            "Epoch 66/100, Loss: 0.7912842035293579\n",
            "Epoch 67/100, Loss: 0.7912657260894775\n",
            "Epoch 68/100, Loss: 0.7912471294403076\n",
            "Epoch 69/100, Loss: 0.7912286520004272\n",
            "Epoch 70/100, Loss: 0.7912101149559021\n",
            "Epoch 71/100, Loss: 0.7911916375160217\n",
            "Epoch 72/100, Loss: 0.7911731600761414\n",
            "Epoch 73/100, Loss: 0.7911548018455505\n",
            "Epoch 74/100, Loss: 0.7911363244056702\n",
            "Epoch 75/100, Loss: 0.7911178469657898\n",
            "Epoch 76/100, Loss: 0.791099488735199\n",
            "Epoch 77/100, Loss: 0.7910810708999634\n",
            "Epoch 78/100, Loss: 0.7910627126693726\n",
            "Epoch 79/100, Loss: 0.791044294834137\n",
            "Epoch 80/100, Loss: 0.7910259962081909\n",
            "Epoch 81/100, Loss: 0.7910076975822449\n",
            "Epoch 82/100, Loss: 0.7909893989562988\n",
            "Epoch 83/100, Loss: 0.7909709811210632\n",
            "Epoch 84/100, Loss: 0.7909526824951172\n",
            "Epoch 85/100, Loss: 0.7909344434738159\n",
            "Epoch 86/100, Loss: 0.7909161448478699\n",
            "Epoch 87/100, Loss: 0.7908978462219238\n",
            "Epoch 88/100, Loss: 0.7908796668052673\n",
            "Epoch 89/100, Loss: 0.7908613681793213\n",
            "Epoch 90/100, Loss: 0.7908431887626648\n",
            "Epoch 91/100, Loss: 0.7908248901367188\n",
            "Epoch 92/100, Loss: 0.7908067107200623\n",
            "Epoch 93/100, Loss: 0.7907885909080505\n",
            "Epoch 94/100, Loss: 0.790770411491394\n",
            "Epoch 95/100, Loss: 0.7907522320747375\n",
            "Epoch 96/100, Loss: 0.7907341122627258\n",
            "Epoch 97/100, Loss: 0.7907159328460693\n",
            "Epoch 98/100, Loss: 0.7906978130340576\n",
            "Epoch 99/100, Loss: 0.7906797528266907\n",
            "Epoch 100/100, Loss: 0.790661633014679\n"
          ]
        }
      ]
    },
    {
      "cell_type": "code",
      "source": [
        "# Evaluate the trained logistic regression model\n",
        "X_test_tensor_log = tf.constant(X_test_log, dtype=tf.float32)\n",
        "y_pred_log = logistic_regression(X_test_tensor_log)\n",
        "accuracy = tf.reduce_mean(tf.cast(tf.equal(tf.argmax(y_test_log.values, axis=1), tf.argmax(y_pred_log, axis=1)), tf.float32))\n",
        "print(f\"Accuracy: {accuracy.numpy()}\")"
      ],
      "metadata": {
        "colab": {
          "base_uri": "https://localhost:8080/"
        },
        "id": "OJnSB6kv8Skq",
        "outputId": "6c9063c8-ac5a-4c4f-cc59-7c75c9786540"
      },
      "execution_count": null,
      "outputs": [
        {
          "output_type": "stream",
          "name": "stdout",
          "text": [
            "Accuracy: 0.7799999713897705\n"
          ]
        }
      ]
    },
    {
      "cell_type": "code",
      "source": [
        "learning_rates = [0.01, 0.05, 0.1, 0.2, 0.5]  # Define different learning rates\n",
        "\n",
        "# Train logistic regression model with different learning rates\n",
        "for lr in learning_rates:\n",
        "    optimizer_log = tf.optimizers.SGD(learning_rate=lr)\n",
        "    for epoch in range(epochs_log):\n",
        "        with tf.GradientTape() as tape_log:\n",
        "            predictions_log = logistic_regression(X_train_tensor_log)\n",
        "            loss_log = cross_entropy_loss(y_train_tensor_log, predictions_log)\n",
        "        gradients_log = tape_log.gradient(loss_log, [W_log, b_log])\n",
        "        optimizer_log.apply_gradients(zip(gradients_log, [W_log, b_log]))\n",
        "\n",
        "    # Evaluate the trained logistic regression model\n",
        "    y_pred_log = logistic_regression(X_test_tensor_log)\n",
        "    accuracy = tf.reduce_mean(tf.cast(tf.equal(tf.argmax(y_test_log.values, axis=1), tf.argmax(y_pred_log, axis=1)), tf.float32))\n",
        "    print(f\"Learning Rate: {lr}, Accuracy: {accuracy.numpy()}\")\n"
      ],
      "metadata": {
        "colab": {
          "base_uri": "https://localhost:8080/"
        },
        "id": "VkKbcXWy_7DL",
        "outputId": "84808b0d-777b-4ff4-a093-d3fdc876b9f3"
      },
      "execution_count": null,
      "outputs": [
        {
          "output_type": "stream",
          "name": "stdout",
          "text": [
            "Learning Rate: 0.01, Accuracy: 0.7799999713897705\n",
            "Learning Rate: 0.05, Accuracy: 0.7900000214576721\n",
            "Learning Rate: 0.1, Accuracy: 0.7900000214576721\n",
            "Learning Rate: 0.2, Accuracy: 0.7599999904632568\n",
            "Learning Rate: 0.5, Accuracy: 0.7599999904632568\n"
          ]
        }
      ]
    },
    {
      "cell_type": "code",
      "source": [
        "# Calculate correlation coefficients\n",
        "correlation_matrix = df.corr()\n",
        "correlation_with_target = correlation_matrix['Chance of Admit'].drop('Chance of Admit')\n",
        "\n",
        "# Create bar plot for feature importance\n",
        "plt.bar(correlation_with_target.index, correlation_with_target.values)\n",
        "plt.xlabel('Features')\n",
        "plt.ylabel('Correlation with Target')\n",
        "plt.title('Feature Importance')\n",
        "plt.xticks(rotation=45)\n",
        "plt.show()\n",
        "\n",
        "# Feature selection based on correlation coefficients (e.g., select top features)\n",
        "top_features = correlation_with_target.abs().nlargest(5).index\n",
        "X_selected = df[top_features]\n"
      ],
      "metadata": {
        "colab": {
          "base_uri": "https://localhost:8080/",
          "height": 552
        },
        "id": "G7kQj-nQAhBx",
        "outputId": "4c7525a1-e9b4-40f7-cb94-13499fd40dae"
      },
      "execution_count": 69,
      "outputs": [
        {
          "output_type": "display_data",
          "data": {
            "text/plain": [
              "<Figure size 640x480 with 1 Axes>"
            ],
            "image/png": "[encoded data removed]"
          },
          "metadata": {}
        }
      ]
    },
    {
      "cell_type": "code",
      "source": [
        "from sklearn.model_selection import cross_val_score\n",
        "from sklearn.linear_model import LinearRegression, LogisticRegression\n",
        "\n",
        "# Linear Regression with k-fold cross-validation\n",
        "linear_reg_model = LinearRegression()\n",
        "linear_reg_scores = cross_val_score(linear_reg_model, X_scaled, y, cv=5, scoring='neg_mean_squared_error')\n",
        "print(\"Linear Regression Mean MSE:\", -linear_reg_scores.mean())\n"
      ],
      "metadata": {
        "colab": {
          "base_uri": "https://localhost:8080/"
        },
        "id": "Qad6WnVKAsRx",
        "outputId": "8fb1cf39-06f1-4b9b-9bbc-a868380b79b2"
      },
      "execution_count": null,
      "outputs": [
        {
          "output_type": "stream",
          "name": "stdout",
          "text": [
            "Linear Regression Mean MSE: 0.003974416673908526\n"
          ]
        }
      ]
    },
    {
      "cell_type": "code",
      "source": [
        "# Convert the target variable to a 1-dimensional array\n",
        "y_binned_1d = np.argmax(y_binned.values, axis=1)\n",
        "\n",
        "# Logistic Regression with k-fold cross-validation\n",
        "logistic_reg_model = LogisticRegression()\n",
        "logistic_reg_scores = cross_val_score(logistic_reg_model, X_scaled, y_binned_1d, cv=5, scoring='accuracy')\n",
        "print(\"Logistic Regression Mean Accuracy:\", logistic_reg_scores.mean())"
      ],
      "metadata": {
        "colab": {
          "base_uri": "https://localhost:8080/"
        },
        "id": "rdRaJ9FoAy-8",
        "outputId": "18a3d1aa-687c-40b9-ff4c-99c88ffa64e4"
      },
      "execution_count": null,
      "outputs": [
        {
          "output_type": "stream",
          "name": "stdout",
          "text": [
            "Logistic Regression Mean Accuracy: 0.786\n"
          ]
        }
      ]
    },
    {
      "cell_type": "code",
      "source": [
        "# Train logistic regression model with sigmoid activation\n",
        "for epoch in range(epochs_log):\n",
        "    with tf.GradientTape() as tape_log:\n",
        "        predictions_log = tf.nn.sigmoid(tf.matmul(X_train_tensor_log, W_log) + b_log)\n",
        "        # Compute the sigmoid cross-entropy loss\n",
        "        loss_log = tf.reduce_mean(tf.nn.sigmoid_cross_entropy_with_logits(labels=y_train_binary, logits=predictions_log[:, 1]))\n",
        "    gradients_log = tape_log.gradient(loss_log, [W_log, b_log])\n",
        "    optimizer_log_sigmoid.apply_gradients(zip(gradients_log, [W_log, b_log]))\n",
        "\n",
        "# Evaluate the trained logistic regression model with sigmoid activation\n",
        "y_pred_log_sigmoid = tf.nn.sigmoid(tf.matmul(X_test_tensor_log, W_log) + b_log)\n",
        "y_pred_binary = (y_pred_log_sigmoid.numpy()[:, 1] > 0.5).astype(np.float32)\n",
        "accuracy_sigmoid = np.mean(y_pred_binary == y_test_binary)\n",
        "print(\"Logistic Regression (Sigmoid) Accuracy:\", accuracy_sigmoid)\n"
      ],
      "metadata": {
        "colab": {
          "base_uri": "https://localhost:8080/"
        },
        "id": "GecyzlWzBLlR",
        "outputId": "cd98b01b-928e-4175-9cc4-f4962fad196f"
      },
      "execution_count": null,
      "outputs": [
        {
          "output_type": "stream",
          "name": "stdout",
          "text": [
            "Logistic Regression (Sigmoid) Accuracy: 0.91\n"
          ]
        }
      ]
    }
  ]
}