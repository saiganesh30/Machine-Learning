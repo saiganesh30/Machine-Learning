{
 "cells": [
  {
   "cell_type": "code",
   "execution_count": 1,
   "metadata": {},
   "outputs": [],
   "source": [
    "import pandas as pd\n",
    "import matplotlib.pyplot as plt\n",
    "import numpy as np\n",
    "import sklearn\n",
    "from sklearn.preprocessing import StandardScaler, MinMaxScaler\n",
    "from sklearn.model_selection import train_test_split\n",
    "from sklearn.linear_model import LinearRegression\n",
    "from sklearn.metrics import mean_absolute_error, mean_squared_error"
   ]
  },
  {
   "cell_type": "code",
   "execution_count": 2,
   "metadata": {},
   "outputs": [
    {
     "data": {
      "text/html": [
       "<div>\n",
       "<style scoped>\n",
       "    .dataframe tbody tr th:only-of-type {\n",
       "        vertical-align: middle;\n",
       "    }\n",
       "\n",
       "    .dataframe tbody tr th {\n",
       "        vertical-align: top;\n",
       "    }\n",
       "\n",
       "    .dataframe thead th {\n",
       "        text-align: right;\n",
       "    }\n",
       "</style>\n",
       "<table border=\"1\" class=\"dataframe\">\n",
       "  <thead>\n",
       "    <tr style=\"text-align: right;\">\n",
       "      <th></th>\n",
       "      <th>YEAR</th>\n",
       "      <th>Rainfall in June</th>\n",
       "    </tr>\n",
       "  </thead>\n",
       "  <tbody>\n",
       "    <tr>\n",
       "      <th>0</th>\n",
       "      <td>1901</td>\n",
       "      <td>22.7</td>\n",
       "    </tr>\n",
       "    <tr>\n",
       "      <th>1</th>\n",
       "      <td>1902</td>\n",
       "      <td>59.9</td>\n",
       "    </tr>\n",
       "    <tr>\n",
       "      <th>2</th>\n",
       "      <td>1903</td>\n",
       "      <td>26.2</td>\n",
       "    </tr>\n",
       "    <tr>\n",
       "      <th>3</th>\n",
       "      <td>1904</td>\n",
       "      <td>53.4</td>\n",
       "    </tr>\n",
       "    <tr>\n",
       "      <th>4</th>\n",
       "      <td>1905</td>\n",
       "      <td>23.1</td>\n",
       "    </tr>\n",
       "    <tr>\n",
       "      <th>...</th>\n",
       "      <td>...</td>\n",
       "      <td>...</td>\n",
       "    </tr>\n",
       "    <tr>\n",
       "      <th>112</th>\n",
       "      <td>2011</td>\n",
       "      <td>119.5</td>\n",
       "    </tr>\n",
       "    <tr>\n",
       "      <th>113</th>\n",
       "      <td>2012</td>\n",
       "      <td>21.7</td>\n",
       "    </tr>\n",
       "    <tr>\n",
       "      <th>114</th>\n",
       "      <td>2013</td>\n",
       "      <td>155.0</td>\n",
       "    </tr>\n",
       "    <tr>\n",
       "      <th>115</th>\n",
       "      <td>2014</td>\n",
       "      <td>31.3</td>\n",
       "    </tr>\n",
       "    <tr>\n",
       "      <th>116</th>\n",
       "      <td>2015</td>\n",
       "      <td>90.6</td>\n",
       "    </tr>\n",
       "  </tbody>\n",
       "</table>\n",
       "<p>117 rows × 2 columns</p>\n",
       "</div>"
      ],
      "text/plain": [
       "     YEAR  Rainfall in June\n",
       "0    1901              22.7\n",
       "1    1902              59.9\n",
       "2    1903              26.2\n",
       "3    1904              53.4\n",
       "4    1905              23.1\n",
       "..    ...               ...\n",
       "112  2011             119.5\n",
       "113  2012              21.7\n",
       "114  2013             155.0\n",
       "115  2014              31.3\n",
       "116  2015              90.6\n",
       "\n",
       "[117 rows x 2 columns]"
      ]
     },
     "execution_count": 2,
     "metadata": {},
     "output_type": "execute_result"
    }
   ],
   "source": [
    "# Take the data and create dataframe\n",
    "df = pd.read_csv(r'D:\\Abhiram\\3-2\\ML\\Assignments\\1\\data.csv')\n",
    "df"
   ]
  },
  {
   "cell_type": "code",
   "execution_count": 3,
   "metadata": {},
   "outputs": [
    {
     "data": {
      "text/plain": [
       "117"
      ]
     },
     "execution_count": 3,
     "metadata": {},
     "output_type": "execute_result"
    }
   ],
   "source": [
    "df.shape[0] #number of rows"
   ]
  },
  {
   "cell_type": "code",
   "execution_count": 4,
   "metadata": {},
   "outputs": [],
   "source": [
    "rainfall = 'Rainfall in June'\n",
    "year = 'YEAR'"
   ]
  },
  {
   "cell_type": "code",
   "execution_count": 5,
   "metadata": {},
   "outputs": [
    {
     "data": {
      "text/plain": [
       "72.95752212389381"
      ]
     },
     "execution_count": 5,
     "metadata": {},
     "output_type": "execute_result"
    }
   ],
   "source": [
    "df[rainfall].mean() #mean rainfall"
   ]
  },
  {
   "cell_type": "code",
   "execution_count": 6,
   "metadata": {},
   "outputs": [
    {
     "data": {
      "text/plain": [
       "69.9"
      ]
     },
     "execution_count": 6,
     "metadata": {},
     "output_type": "execute_result"
    }
   ],
   "source": [
    "median_value = df[rainfall].median() #median rainfall\n",
    "median_value"
   ]
  },
  {
   "cell_type": "code",
   "execution_count": 7,
   "metadata": {},
   "outputs": [
    {
     "data": {
      "text/plain": [
       "0    42.9\n",
       "Name: Rainfall in June, dtype: float64"
      ]
     },
     "execution_count": 7,
     "metadata": {},
     "output_type": "execute_result"
    }
   ],
   "source": [
    "df[rainfall].mode() #mode of the given rainfall values"
   ]
  },
  {
   "cell_type": "code",
   "execution_count": 8,
   "metadata": {},
   "outputs": [
    {
     "data": {
      "text/plain": [
       "35.968989136749386"
      ]
     },
     "execution_count": 8,
     "metadata": {},
     "output_type": "execute_result"
    }
   ],
   "source": [
    "df[rainfall].std() #standard deviation of given rainfall values"
   ]
  },
  {
   "cell_type": "code",
   "execution_count": 9,
   "metadata": {},
   "outputs": [
    {
     "data": {
      "text/html": [
       "<div>\n",
       "<style scoped>\n",
       "    .dataframe tbody tr th:only-of-type {\n",
       "        vertical-align: middle;\n",
       "    }\n",
       "\n",
       "    .dataframe tbody tr th {\n",
       "        vertical-align: top;\n",
       "    }\n",
       "\n",
       "    .dataframe thead th {\n",
       "        text-align: right;\n",
       "    }\n",
       "</style>\n",
       "<table border=\"1\" class=\"dataframe\">\n",
       "  <thead>\n",
       "    <tr style=\"text-align: right;\">\n",
       "      <th></th>\n",
       "      <th>YEAR</th>\n",
       "      <th>Rainfall in June</th>\n",
       "    </tr>\n",
       "  </thead>\n",
       "  <tbody>\n",
       "    <tr>\n",
       "      <th>0</th>\n",
       "      <td>1901</td>\n",
       "      <td>22.7</td>\n",
       "    </tr>\n",
       "    <tr>\n",
       "      <th>1</th>\n",
       "      <td>1902</td>\n",
       "      <td>59.9</td>\n",
       "    </tr>\n",
       "    <tr>\n",
       "      <th>2</th>\n",
       "      <td>1903</td>\n",
       "      <td>26.2</td>\n",
       "    </tr>\n",
       "    <tr>\n",
       "      <th>3</th>\n",
       "      <td>1904</td>\n",
       "      <td>53.4</td>\n",
       "    </tr>\n",
       "    <tr>\n",
       "      <th>4</th>\n",
       "      <td>1905</td>\n",
       "      <td>23.1</td>\n",
       "    </tr>\n",
       "    <tr>\n",
       "      <th>...</th>\n",
       "      <td>...</td>\n",
       "      <td>...</td>\n",
       "    </tr>\n",
       "    <tr>\n",
       "      <th>112</th>\n",
       "      <td>2011</td>\n",
       "      <td>119.5</td>\n",
       "    </tr>\n",
       "    <tr>\n",
       "      <th>113</th>\n",
       "      <td>2012</td>\n",
       "      <td>21.7</td>\n",
       "    </tr>\n",
       "    <tr>\n",
       "      <th>114</th>\n",
       "      <td>2013</td>\n",
       "      <td>155.0</td>\n",
       "    </tr>\n",
       "    <tr>\n",
       "      <th>115</th>\n",
       "      <td>2014</td>\n",
       "      <td>31.3</td>\n",
       "    </tr>\n",
       "    <tr>\n",
       "      <th>116</th>\n",
       "      <td>2015</td>\n",
       "      <td>90.6</td>\n",
       "    </tr>\n",
       "  </tbody>\n",
       "</table>\n",
       "<p>117 rows × 2 columns</p>\n",
       "</div>"
      ],
      "text/plain": [
       "     YEAR  Rainfall in June\n",
       "0    1901              22.7\n",
       "1    1902              59.9\n",
       "2    1903              26.2\n",
       "3    1904              53.4\n",
       "4    1905              23.1\n",
       "..    ...               ...\n",
       "112  2011             119.5\n",
       "113  2012              21.7\n",
       "114  2013             155.0\n",
       "115  2014              31.3\n",
       "116  2015              90.6\n",
       "\n",
       "[117 rows x 2 columns]"
      ]
     },
     "execution_count": 9,
     "metadata": {},
     "output_type": "execute_result"
    }
   ],
   "source": [
    "#4. Filling median values in the rows that have missing values\n",
    "# We can also try filling mean or mode values\n",
    "\n",
    "df[rainfall] = df[rainfall].fillna(median_value)\n",
    "df"
   ]
  },
  {
   "cell_type": "code",
   "execution_count": 10,
   "metadata": {},
   "outputs": [
    {
     "data": {
      "text/html": [
       "<div>\n",
       "<style scoped>\n",
       "    .dataframe tbody tr th:only-of-type {\n",
       "        vertical-align: middle;\n",
       "    }\n",
       "\n",
       "    .dataframe tbody tr th {\n",
       "        vertical-align: top;\n",
       "    }\n",
       "\n",
       "    .dataframe thead th {\n",
       "        text-align: right;\n",
       "    }\n",
       "</style>\n",
       "<table border=\"1\" class=\"dataframe\">\n",
       "  <thead>\n",
       "    <tr style=\"text-align: right;\">\n",
       "      <th></th>\n",
       "      <th>YEAR</th>\n",
       "      <th>Rainfall in June</th>\n",
       "    </tr>\n",
       "  </thead>\n",
       "  <tbody>\n",
       "    <tr>\n",
       "      <th>0</th>\n",
       "      <td>1901</td>\n",
       "      <td>22.7</td>\n",
       "    </tr>\n",
       "    <tr>\n",
       "      <th>1</th>\n",
       "      <td>1902</td>\n",
       "      <td>59.9</td>\n",
       "    </tr>\n",
       "    <tr>\n",
       "      <th>2</th>\n",
       "      <td>1903</td>\n",
       "      <td>26.2</td>\n",
       "    </tr>\n",
       "    <tr>\n",
       "      <th>3</th>\n",
       "      <td>1904</td>\n",
       "      <td>53.4</td>\n",
       "    </tr>\n",
       "    <tr>\n",
       "      <th>4</th>\n",
       "      <td>1905</td>\n",
       "      <td>23.1</td>\n",
       "    </tr>\n",
       "    <tr>\n",
       "      <th>...</th>\n",
       "      <td>...</td>\n",
       "      <td>...</td>\n",
       "    </tr>\n",
       "    <tr>\n",
       "      <th>112</th>\n",
       "      <td>2011</td>\n",
       "      <td>119.5</td>\n",
       "    </tr>\n",
       "    <tr>\n",
       "      <th>113</th>\n",
       "      <td>2012</td>\n",
       "      <td>21.7</td>\n",
       "    </tr>\n",
       "    <tr>\n",
       "      <th>114</th>\n",
       "      <td>2013</td>\n",
       "      <td>155.0</td>\n",
       "    </tr>\n",
       "    <tr>\n",
       "      <th>115</th>\n",
       "      <td>2014</td>\n",
       "      <td>31.3</td>\n",
       "    </tr>\n",
       "    <tr>\n",
       "      <th>116</th>\n",
       "      <td>2015</td>\n",
       "      <td>90.6</td>\n",
       "    </tr>\n",
       "  </tbody>\n",
       "</table>\n",
       "<p>115 rows × 2 columns</p>\n",
       "</div>"
      ],
      "text/plain": [
       "     YEAR  Rainfall in June\n",
       "0    1901              22.7\n",
       "1    1902              59.9\n",
       "2    1903              26.2\n",
       "3    1904              53.4\n",
       "4    1905              23.1\n",
       "..    ...               ...\n",
       "112  2011             119.5\n",
       "113  2012              21.7\n",
       "114  2013             155.0\n",
       "115  2014              31.3\n",
       "116  2015              90.6\n",
       "\n",
       "[115 rows x 2 columns]"
      ]
     },
     "execution_count": 10,
     "metadata": {},
     "output_type": "execute_result"
    }
   ],
   "source": [
    "#5. Two rows in the CSV file have duplicates. Remove those duplicates by calling drop_duplicates method on the DataFrame.\n",
    "\n",
    "df = df.drop_duplicates()\n",
    "df"
   ]
  },
  {
   "cell_type": "code",
   "execution_count": 12,
   "metadata": {},
   "outputs": [
    {
     "name": "stdout",
     "output_type": "stream",
     "text": [
      "mean =  72.21652173913043\n",
      "median =  69.9\n",
      "mode =  0    69.9\n",
      "Name: Rainfall in June, dtype: float64\n",
      "standard deviation =  35.074762082785355\n"
     ]
    }
   ],
   "source": [
    "# Now calculating the descriptive statistics again after imputing median values in the rows that have missing values and removing the duplicates.\n",
    "\n",
    "mean_value = df[rainfall].mean() #mean rainfall\n",
    "median_value = df[rainfall].median() #median rainfall\n",
    "mode_value = df[rainfall].mode() #mode of the given rainfall values\n",
    "standard_deviation_value = df[rainfall].std() #standard deviation of given rainfall values\n",
    "\n",
    "print(\"mean = \", mean_value)\n",
    "print(\"median = \", median_value)\n",
    "print(\"mode = \", mode_value)\n",
    "print(\"standard deviation = \", standard_deviation_value)"
   ]
  },
  {
   "cell_type": "code",
   "execution_count": 13,
   "metadata": {},
   "outputs": [
    {
     "data": {
      "image/png": "[encoded data removed]",
      "text/plain": [
       "<Figure size 800x600 with 1 Axes>"
      ]
     },
     "metadata": {},
     "output_type": "display_data"
    },
    {
     "name": "stdout",
     "output_type": "stream",
     "text": [
      "Mean: 72.21652173913043\n",
      "Median: 69.9\n",
      "The distribution is skewed to the right.\n"
     ]
    }
   ],
   "source": [
    "#6. Use Matplotlib to create a histogram plot of the data distribution to see if it is symmetry or skewed to the right or skewed to the left. Verify the behavior by comparing the Mean with Median. \n",
    "\n",
    "plt.figure(figsize=(8,6))\n",
    "plt.hist(df[rainfall], bins=30, color='blue', alpha=0.7, edgecolor='black')\n",
    "\n",
    "plt.title('Histogram of India’s rainfall distribution in the month of June from the year 1901 to 2015')\n",
    "\n",
    "plt.xlabel('Rainfall in June')\n",
    "plt.ylabel('Frequency')\n",
    "\n",
    "# Add a vertical line for the Mean\n",
    "plt.axvline(mean_value, color='red', linestyle='dashed', linewidth=2, label='Mean')\n",
    "\n",
    "# Add a vertical line for the Median\n",
    "plt.axvline(median_value, color='green', linestyle='dashed', linewidth=2, label='Median')\n",
    "\n",
    "# Show legend\n",
    "plt.legend()\n",
    "\n",
    "plt.show()\n",
    "\n",
    "# Compare Mean and Median\n",
    "print(f\"Mean: {mean_value}\")\n",
    "print(f\"Median: {median_value}\")\n",
    "\n",
    "# Determine if the distribution is skewed based on Mean and Median\n",
    "if mean_value > median_value:\n",
    "    print(\"The distribution is skewed to the right.\")\n",
    "elif mean_value < median_value:\n",
    "    print(\"The distribution is skewed to the left.\")\n",
    "else:\n",
    "    print(\"The distribution is symmetric.\")"
   ]
  },
  {
   "cell_type": "code",
   "execution_count": 15,
   "metadata": {},
   "outputs": [
    {
     "name": "stdout",
     "output_type": "stream",
     "text": [
      "Original Data:\n",
      "[1901 1902 1903 1904 1905 1906 1907 1908 1909 1910 1911 1912 1913 1914\n",
      " 1915 1916 1917 1918 1919 1920 1921 1922 1923 1924 1925 1926 1927 1928\n",
      " 1929 1930 1931 1932 1933 1934 1935 1936 1937 1938 1939 1940 1941 1942\n",
      " 1943 1944 1945 1946 1947 1948 1949 1950 1951 1952 1953 1954 1955 1956\n",
      " 1957 1958 1959 1960 1961 1962 1963 1964 1965 1966 1967 1968 1969 1970\n",
      " 1971 1972 1973 1974 1975 1976 1977 1978 1979 1980 1981 1982 1983 1984\n",
      " 1985 1986 1987 1988 1989 1990 1991 1992 1993 1994 1995 1996 1997 1998\n",
      " 1999 2000 2001 2002 2003 2004 2005 2006 2007 2008 2009 2010 2011 2012\n",
      " 2013 2014 2015]\n",
      "\n",
      "Data after Standard Scaling:\n",
      "[-1.71705441 -1.68693065 -1.65680689 -1.62668313 -1.59655937 -1.56643561\n",
      " -1.53631184 -1.50618808 -1.47606432 -1.44594056 -1.4158168  -1.38569304\n",
      " -1.35556927 -1.32544551 -1.29532175 -1.26519799 -1.23507423 -1.20495047\n",
      " -1.1748267  -1.14470294 -1.11457918 -1.08445542 -1.05433166 -1.0242079\n",
      " -0.99408413 -0.96396037 -0.93383661 -0.90371285 -0.87358909 -0.84346533\n",
      " -0.81334156 -0.7832178  -0.75309404 -0.72297028 -0.69284652 -0.66272276\n",
      " -0.63259899 -0.60247523 -0.57235147 -0.54222771 -0.51210395 -0.48198019\n",
      " -0.45185642 -0.42173266 -0.3916089  -0.36148514 -0.33136138 -0.30123762\n",
      " -0.27111385 -0.24099009 -0.21086633 -0.18074257 -0.15061881 -0.12049505\n",
      " -0.09037128 -0.06024752 -0.03012376  0.          0.03012376  0.06024752\n",
      "  0.09037128  0.12049505  0.15061881  0.18074257  0.21086633  0.24099009\n",
      "  0.27111385  0.30123762  0.33136138  0.36148514  0.3916089   0.42173266\n",
      "  0.45185642  0.48198019  0.51210395  0.54222771  0.57235147  0.60247523\n",
      "  0.63259899  0.66272276  0.69284652  0.72297028  0.75309404  0.7832178\n",
      "  0.81334156  0.84346533  0.87358909  0.90371285  0.93383661  0.96396037\n",
      "  0.99408413  1.0242079   1.05433166  1.08445542  1.11457918  1.14470294\n",
      "  1.1748267   1.20495047  1.23507423  1.26519799  1.29532175  1.32544551\n",
      "  1.35556927  1.38569304  1.4158168   1.44594056  1.47606432  1.50618808\n",
      "  1.53631184  1.56643561  1.59655937  1.62668313  1.65680689  1.68693065\n",
      "  1.71705441]\n",
      "\n",
      "Data after Min-Max Scaling:\n",
      "[0.         0.00877193 0.01754386 0.02631579 0.03508772 0.04385965\n",
      " 0.05263158 0.06140351 0.07017544 0.07894737 0.0877193  0.09649123\n",
      " 0.10526316 0.11403509 0.12280702 0.13157895 0.14035088 0.14912281\n",
      " 0.15789474 0.16666667 0.1754386  0.18421053 0.19298246 0.20175439\n",
      " 0.21052632 0.21929825 0.22807018 0.23684211 0.24561404 0.25438596\n",
      " 0.26315789 0.27192982 0.28070175 0.28947368 0.29824561 0.30701754\n",
      " 0.31578947 0.3245614  0.33333333 0.34210526 0.35087719 0.35964912\n",
      " 0.36842105 0.37719298 0.38596491 0.39473684 0.40350877 0.4122807\n",
      " 0.42105263 0.42982456 0.43859649 0.44736842 0.45614035 0.46491228\n",
      " 0.47368421 0.48245614 0.49122807 0.5        0.50877193 0.51754386\n",
      " 0.52631579 0.53508772 0.54385965 0.55263158 0.56140351 0.57017544\n",
      " 0.57894737 0.5877193  0.59649123 0.60526316 0.61403509 0.62280702\n",
      " 0.63157895 0.64035088 0.64912281 0.65789474 0.66666667 0.6754386\n",
      " 0.68421053 0.69298246 0.70175439 0.71052632 0.71929825 0.72807018\n",
      " 0.73684211 0.74561404 0.75438596 0.76315789 0.77192982 0.78070175\n",
      " 0.78947368 0.79824561 0.80701754 0.81578947 0.8245614  0.83333333\n",
      " 0.84210526 0.85087719 0.85964912 0.86842105 0.87719298 0.88596491\n",
      " 0.89473684 0.90350877 0.9122807  0.92105263 0.92982456 0.93859649\n",
      " 0.94736842 0.95614035 0.96491228 0.97368421 0.98245614 0.99122807\n",
      " 1.        ]\n",
      "Range after Standard Scaling: 3.4341088288340345\n",
      "Range after Min-Max Scaling: 1.0\n",
      "Difference in range: 2.4341088288340345\n"
     ]
    }
   ],
   "source": [
    "#7. Perform Standard scaling of the data using StandardScaler and MinMaxScaler using the Scikit functions and report their differences in range.\n",
    "\n",
    "# Extract the specified column as a 1D array\n",
    "data_to_scale = df[year].values.reshape(-1, 1)\n",
    "\n",
    "# Standard Scaling using StandardScaler\n",
    "standard_scaler = StandardScaler()\n",
    "scaled_data_standard = standard_scaler.fit_transform(data_to_scale)\n",
    "\n",
    "# Min-Max Scaling using MinMaxScaler\n",
    "min_max_scaler = MinMaxScaler()\n",
    "scaled_data_minmax = min_max_scaler.fit_transform(data_to_scale)\n",
    "\n",
    "# Display original and scaled data\n",
    "print(\"Original Data:\")\n",
    "print(data_to_scale.flatten())\n",
    "print(\"\\nData after Standard Scaling:\")\n",
    "print(scaled_data_standard.flatten())\n",
    "print(\"\\nData after Min-Max Scaling:\")\n",
    "print(scaled_data_minmax.flatten())\n",
    "\n",
    "# Calculate the range of scaled data\n",
    "range_standard = scaled_data_standard.max() - scaled_data_standard.min()\n",
    "range_minmax = scaled_data_minmax.max() - scaled_data_minmax.min()\n",
    "# Display the differences in range\n",
    "print(f\"Range after Standard Scaling: {range_standard}\")\n",
    "print(f\"Range after Min-Max Scaling: {range_minmax}\")\n",
    "print(f\"Difference in range: {range_standard-range_minmax}\")"
   ]
  },
  {
   "cell_type": "markdown",
   "metadata": {},
   "source": [
    "Applying Linear Regression on Unscaled data."
   ]
  },
  {
   "cell_type": "code",
   "execution_count": 16,
   "metadata": {},
   "outputs": [
    {
     "name": "stdout",
     "output_type": "stream",
     "text": [
      "x =  [[1901]\n",
      " [1902]\n",
      " [1903]\n",
      " [1904]\n",
      " [1905]\n",
      " [1906]\n",
      " [1907]\n",
      " [1908]\n",
      " [1909]\n",
      " [1910]\n",
      " [1911]\n",
      " [1912]\n",
      " [1913]\n",
      " [1914]\n",
      " [1915]\n",
      " [1916]\n",
      " [1917]\n",
      " [1918]\n",
      " [1919]\n",
      " [1920]\n",
      " [1921]\n",
      " [1922]\n",
      " [1923]\n",
      " [1924]\n",
      " [1925]\n",
      " [1926]\n",
      " [1927]\n",
      " [1928]\n",
      " [1929]\n",
      " [1930]\n",
      " [1931]\n",
      " [1932]\n",
      " [1933]\n",
      " [1934]\n",
      " [1935]\n",
      " [1936]\n",
      " [1937]\n",
      " [1938]\n",
      " [1939]\n",
      " [1940]\n",
      " [1941]\n",
      " [1942]\n",
      " [1943]\n",
      " [1944]\n",
      " [1945]\n",
      " [1946]\n",
      " [1947]\n",
      " [1948]\n",
      " [1949]\n",
      " [1950]\n",
      " [1951]\n",
      " [1952]\n",
      " [1953]\n",
      " [1954]\n",
      " [1955]\n",
      " [1956]\n",
      " [1957]\n",
      " [1958]\n",
      " [1959]\n",
      " [1960]\n",
      " [1961]\n",
      " [1962]\n",
      " [1963]\n",
      " [1964]\n",
      " [1965]\n",
      " [1966]\n",
      " [1967]\n",
      " [1968]\n",
      " [1969]\n",
      " [1970]\n",
      " [1971]\n",
      " [1972]\n",
      " [1973]\n",
      " [1974]\n",
      " [1975]\n",
      " [1976]\n",
      " [1977]\n",
      " [1978]\n",
      " [1979]\n",
      " [1980]\n",
      " [1981]\n",
      " [1982]\n",
      " [1983]\n",
      " [1984]\n",
      " [1985]\n",
      " [1986]\n",
      " [1987]\n",
      " [1988]\n",
      " [1989]\n",
      " [1990]\n",
      " [1991]\n",
      " [1992]\n",
      " [1993]\n",
      " [1994]\n",
      " [1995]\n",
      " [1996]\n",
      " [1997]\n",
      " [1998]\n",
      " [1999]\n",
      " [2000]\n",
      " [2001]\n",
      " [2002]\n",
      " [2003]\n",
      " [2004]\n",
      " [2005]\n",
      " [2006]\n",
      " [2007]\n",
      " [2008]\n",
      " [2009]\n",
      " [2010]\n",
      " [2011]\n",
      " [2012]\n",
      " [2013]\n",
      " [2014]\n",
      " [2015]]\n",
      "y =  [[ 22.7]\n",
      " [ 59.9]\n",
      " [ 26.2]\n",
      " [ 53.4]\n",
      " [ 23.1]\n",
      " [ 91.8]\n",
      " [ 41.4]\n",
      " [ 41.1]\n",
      " [125. ]\n",
      " [116.9]\n",
      " [ 78. ]\n",
      " [ 31.8]\n",
      " [120.2]\n",
      " [ 75.3]\n",
      " [ 54.5]\n",
      " [132.3]\n",
      " [138. ]\n",
      " [ 68.8]\n",
      " [ 42.9]\n",
      " [ 82.6]\n",
      " [ 76.8]\n",
      " [ 72.9]\n",
      " [ 23. ]\n",
      " [ 19.6]\n",
      " [142.5]\n",
      " [ 17.7]\n",
      " [ 39. ]\n",
      " [ 48.9]\n",
      " [ 69.9]\n",
      " [ 62.9]\n",
      " [ 17.9]\n",
      " [ 38.9]\n",
      " [134. ]\n",
      " [101.1]\n",
      " [ 30. ]\n",
      " [157.8]\n",
      " [ 70.8]\n",
      " [154. ]\n",
      " [ 83.3]\n",
      " [ 66.9]\n",
      " [ 78.3]\n",
      " [ 65.3]\n",
      " [ 48.5]\n",
      " [ 62.8]\n",
      " [ 61.1]\n",
      " [ 92.1]\n",
      " [ 37.1]\n",
      " [ 42.9]\n",
      " [ 38.8]\n",
      " [ 53.5]\n",
      " [ 48.8]\n",
      " [117. ]\n",
      " [ 92.9]\n",
      " [ 35. ]\n",
      " [ 76.9]\n",
      " [ 82.8]\n",
      " [ 57. ]\n",
      " [ 35.8]\n",
      " [ 29.6]\n",
      " [ 49.1]\n",
      " [ 84.6]\n",
      " [ 42.7]\n",
      " [ 58. ]\n",
      " [ 52.2]\n",
      " [ 22.1]\n",
      " [112.6]\n",
      " [ 58.4]\n",
      " [ 69.9]\n",
      " [ 26.4]\n",
      " [108.9]\n",
      " [161. ]\n",
      " [ 42.9]\n",
      " [ 78.6]\n",
      " [ 71.3]\n",
      " [106.3]\n",
      " [ 76.6]\n",
      " [ 88.4]\n",
      " [120.1]\n",
      " [ 52.5]\n",
      " [115.4]\n",
      " [ 77.5]\n",
      " [ 55.2]\n",
      " [ 67. ]\n",
      " [113. ]\n",
      " [ 50.9]\n",
      " [ 78.1]\n",
      " [ 56. ]\n",
      " [ 75.9]\n",
      " [ 72.3]\n",
      " [ 64.3]\n",
      " [ 54.5]\n",
      " [ 35.3]\n",
      " [100.9]\n",
      " [ 83.4]\n",
      " [ 54.8]\n",
      " [ 69.9]\n",
      " [ 87.1]\n",
      " [ 75.8]\n",
      " [ 69.9]\n",
      " [110.7]\n",
      " [140.8]\n",
      " [ 69.9]\n",
      " [ 72. ]\n",
      " [ 79.7]\n",
      " [ 51.8]\n",
      " [ 76.4]\n",
      " [ 88.1]\n",
      " [157.6]\n",
      " [ 35.8]\n",
      " [ 54.2]\n",
      " [119.5]\n",
      " [ 21.7]\n",
      " [155. ]\n",
      " [ 31.3]\n",
      " [ 90.6]]\n"
     ]
    }
   ],
   "source": [
    "# INPUT(x) - YEAR\n",
    "# OUTPUT(y) - Rainfall in June\n",
    "x = df.iloc[:,0].values.reshape(-1, 1)\n",
    "print(\"x = \", x)\n",
    "y = df.iloc[:,1].values.reshape(-1, 1)\n",
    "print(\"y = \", y)"
   ]
  },
  {
   "cell_type": "code",
   "execution_count": 17,
   "metadata": {},
   "outputs": [
    {
     "name": "stdout",
     "output_type": "stream",
     "text": [
      "(115, 1)\n",
      "(92, 1)\n",
      "(23, 1)\n"
     ]
    }
   ],
   "source": [
    "# TRAIN and TEST Variables\n",
    "# Using 80-20 rule to split the data into training and testing.\n",
    "x_train, x_test, y_train, y_test = train_test_split(x, y, test_size=0.2, random_state=0)\n",
    "print(x.shape)\n",
    "print(x_train.shape)\n",
    "print(x_test.shape)"
   ]
  },
  {
   "cell_type": "code",
   "execution_count": 18,
   "metadata": {},
   "outputs": [],
   "source": [
    "# Build a Linear Regression model for predicting the future rainfall.\n",
    "model = LinearRegression().fit(x_train,y_train)"
   ]
  },
  {
   "cell_type": "code",
   "execution_count": 19,
   "metadata": {},
   "outputs": [
    {
     "data": {
      "text/plain": [
       "array([[66.83622928],\n",
       "       [73.73782576],\n",
       "       [72.8751262 ],\n",
       "       [71.25756453],\n",
       "       [66.51271695],\n",
       "       [74.16917554],\n",
       "       [75.57106233],\n",
       "       [75.35538744],\n",
       "       [77.188624  ],\n",
       "       [72.44377642],\n",
       "       [68.99297818],\n",
       "       [65.97352972],\n",
       "       [75.78673722],\n",
       "       [68.13027862],\n",
       "       [70.39486497],\n",
       "       [77.29646145],\n",
       "       [68.34595351],\n",
       "       [73.62998832],\n",
       "       [72.22810153],\n",
       "       [71.79675175],\n",
       "       [67.48325395],\n",
       "       [67.15974162],\n",
       "       [68.5616284 ]])"
      ]
     },
     "execution_count": 19,
     "metadata": {},
     "output_type": "execute_result"
    }
   ],
   "source": [
    "# Predict the output for the test data\n",
    "y_pred = model.predict(x_test) #using the input testing values, we predict the output\n",
    "y_pred #Predicted output values"
   ]
  },
  {
   "cell_type": "code",
   "execution_count": 20,
   "metadata": {},
   "outputs": [
    {
     "data": {
      "image/png": "[encoded data removed]",
      "text/plain": [
       "<Figure size 640x480 with 1 Axes>"
      ]
     },
     "metadata": {},
     "output_type": "display_data"
    }
   ],
   "source": [
    "# Plot the data points\n",
    "plt.scatter(x_test, y_test, color='blue', label='Actual Data')\n",
    "\n",
    "# Plot the regression line\n",
    "plt.plot(x_test, y_pred, color='magenta', linewidth=2, label='Regression Line')\n",
    "\n",
    "# Add labels and title\n",
    "plt.xlabel('Input (YEAR)')\n",
    "plt.ylabel('Output (Rainfall in June)')\n",
    "plt.title('Linear Regression: Actual vs Predicted')\n",
    "\n",
    "# Show legend\n",
    "plt.legend()\n",
    "\n",
    "# Show the plot\n",
    "plt.show()"
   ]
  },
  {
   "cell_type": "code",
   "execution_count": 22,
   "metadata": {},
   "outputs": [
    {
     "name": "stdout",
     "output_type": "stream",
     "text": [
      "Mean Absolute Error (MAE): 29.17768573873959\n",
      "Mean Squared Error (MSE): 1358.971277512646\n",
      "Root Mean Squared Error (RMSE): 36.86422761312986\n"
     ]
    }
   ],
   "source": [
    "# Metrics\n",
    "\n",
    "# Calculate Mean Absolute Error (MAE)\n",
    "mae = mean_absolute_error(y_test, y_pred)\n",
    "\n",
    "# Calculate Mean Squared Error (MSE)\n",
    "mse = mean_squared_error(y_test, y_pred)\n",
    "\n",
    "# Calculate Root Mean Squared Error (RMSE)\n",
    "rmse = np.sqrt(mse)\n",
    "\n",
    "# Display the evaluation metrics\n",
    "print(f\"Mean Absolute Error (MAE): {mae}\")\n",
    "print(f\"Mean Squared Error (MSE): {mse}\")\n",
    "print(f\"Root Mean Squared Error (RMSE): {rmse}\")"
   ]
  },
  {
   "cell_type": "code",
   "execution_count": 23,
   "metadata": {},
   "outputs": [
    {
     "data": {
      "image/png": "[encoded data removed]",
      "text/plain": [
       "<Figure size 640x480 with 1 Axes>"
      ]
     },
     "metadata": {},
     "output_type": "display_data"
    },
    {
     "name": "stdout",
     "output_type": "stream",
     "text": [
      "Mean Absolute Error (MAE): 26.371794328179597\n",
      "Mean Squared Error (MSE): 1039.375729912461\n",
      "Root Mean Squared Error (RMSE): 32.239350643467695\n"
     ]
    }
   ],
   "source": [
    "# Same operations as above but using 70-30 split\n",
    "\n",
    "# TRAIN and TEST Variables\n",
    "x_train, x_test, y_train, y_test = train_test_split(x, y, test_size=0.3, random_state=69)\n",
    "\n",
    "# Build a Linear Regression model for predicting the future rainfall.\n",
    "model = LinearRegression().fit(x_train,y_train)\n",
    "\n",
    "# Predict the output\n",
    "y_pred = model.predict(x_test) #using the input testing values, we predict the output\n",
    "\n",
    "# Plot the data points\n",
    "plt.scatter(x_test, y_test, color='blue', label='Actual Data')\n",
    "\n",
    "# Plot the regression line\n",
    "plt.plot(x_test, y_pred, color='magenta', linewidth=2, label='Regression Line')\n",
    "\n",
    "# Add labels and title\n",
    "plt.xlabel('Input (YEAR)')\n",
    "plt.ylabel('Output (Rainfall in June)')\n",
    "plt.title('Linear Regression: Actual vs Predicted')\n",
    "\n",
    "# Show legend\n",
    "plt.legend()\n",
    "\n",
    "# Show the plot\n",
    "plt.show()\n",
    "\n",
    "# Calculate Mean Absolute Error (MAE)\n",
    "mae = mean_absolute_error(y_test, y_pred)\n",
    "\n",
    "# Calculate Mean Squared Error (MSE)\n",
    "mse = mean_squared_error(y_test, y_pred)\n",
    "\n",
    "# Calculate Root Mean Squared Error (RMSE)\n",
    "rmse = np.sqrt(mse)\n",
    "\n",
    "# Display the evaluation metrics\n",
    "print(f\"Mean Absolute Error (MAE): {mae}\")\n",
    "print(f\"Mean Squared Error (MSE): {mse}\")\n",
    "print(f\"Root Mean Squared Error (RMSE): {rmse}\")"
   ]
  },
  {
   "cell_type": "markdown",
   "metadata": {},
   "source": [
    "Applying Linear Regression on Standard Scaled data."
   ]
  },
  {
   "cell_type": "code",
   "execution_count": 24,
   "metadata": {},
   "outputs": [
    {
     "name": "stdout",
     "output_type": "stream",
     "text": [
      "x =       YEAR\n",
      "0    1901\n",
      "1    1902\n",
      "2    1903\n",
      "3    1904\n",
      "4    1905\n",
      "..    ...\n",
      "112  2011\n",
      "113  2012\n",
      "114  2013\n",
      "115  2014\n",
      "116  2015\n",
      "\n",
      "[115 rows x 1 columns]\n",
      "y =  0       22.7\n",
      "1       59.9\n",
      "2       26.2\n",
      "3       53.4\n",
      "4       23.1\n",
      "       ...  \n",
      "112    119.5\n",
      "113     21.7\n",
      "114    155.0\n",
      "115     31.3\n",
      "116     90.6\n",
      "Name: Rainfall in June, Length: 115, dtype: float64\n"
     ]
    }
   ],
   "source": [
    "# INPUT(x) - YEAR\n",
    "# OUTPUT(y) - Rainfall in June\n",
    "x = df[[year]]\n",
    "print(\"x = \", x)\n",
    "y = df[rainfall]\n",
    "print(\"y = \", y)"
   ]
  },
  {
   "cell_type": "code",
   "execution_count": 25,
   "metadata": {},
   "outputs": [],
   "source": [
    "# Apply Standard Scaling\n",
    "scaler = StandardScaler()\n",
    "x_standard_scaled = scaler.fit_transform(x)\n",
    "\n",
    "# First for 80-20 split\n",
    "x_train, x_test, y_train, y_test = train_test_split(x_standard_scaled, y, test_size=0.2, random_state=4)"
   ]
  },
  {
   "cell_type": "code",
   "execution_count": 26,
   "metadata": {},
   "outputs": [
    {
     "data": {
      "image/png": "[encoded data removed]",
      "text/plain": [
       "<Figure size 640x480 with 1 Axes>"
      ]
     },
     "metadata": {},
     "output_type": "display_data"
    },
    {
     "name": "stdout",
     "output_type": "stream",
     "text": [
      "Mean Absolute Error (MAE): 31.158765064776414\n",
      "Mean Squared Error (MSE): 1655.7401501163201\n",
      "Root Mean Squared Error (RMSE): 40.69078704223255\n"
     ]
    }
   ],
   "source": [
    "# Build a Linear Regression model for predicting the future rainfall.\n",
    "model = LinearRegression().fit(x_train,y_train)\n",
    "\n",
    "# Predict the output\n",
    "y_pred = model.predict(x_test) #using the input testing values, we predict the output\n",
    "\n",
    "# Plot the data points\n",
    "plt.scatter(x_test, y_test, color='blue', label='Actual Data')\n",
    "\n",
    "# Plot the regression line\n",
    "plt.plot(x_test, y_pred, color='magenta', linewidth=2, label='Regression Line')\n",
    "\n",
    "# Add labels and title\n",
    "plt.xlabel('Input (YEAR)')\n",
    "plt.ylabel('Output (Rainfall in June)')\n",
    "plt.title('Linear Regression: Actual vs Predicted')\n",
    "\n",
    "# Show legend\n",
    "plt.legend()\n",
    "\n",
    "# Show the plot\n",
    "plt.show()\n",
    "\n",
    "# Calculate Mean Absolute Error (MAE)\n",
    "mae = mean_absolute_error(y_test, y_pred)\n",
    "\n",
    "# Calculate Mean Squared Error (MSE)\n",
    "mse = mean_squared_error(y_test, y_pred)\n",
    "\n",
    "# Calculate Root Mean Squared Error (RMSE)\n",
    "rmse = np.sqrt(mse)\n",
    "\n",
    "# Display the evaluation metrics\n",
    "print(f\"Mean Absolute Error (MAE): {mae}\")\n",
    "print(f\"Mean Squared Error (MSE): {mse}\")\n",
    "print(f\"Root Mean Squared Error (RMSE): {rmse}\")"
   ]
  },
  {
   "cell_type": "code",
   "execution_count": 28,
   "metadata": {},
   "outputs": [
    {
     "data": {
      "image/png": "[encoded data removed]",
      "text/plain": [
       "<Figure size 640x480 with 1 Axes>"
      ]
     },
     "metadata": {},
     "output_type": "display_data"
    },
    {
     "name": "stdout",
     "output_type": "stream",
     "text": [
      "Mean Absolute Error (MAE): 22.074506095199702\n",
      "Mean Squared Error (MSE): 849.6074673309832\n",
      "Root Mean Squared Error (RMSE): 29.148026817110335\n"
     ]
    }
   ],
   "source": [
    "# Same operations as above but using 70-30 split\n",
    "\n",
    "# TRAIN and TEST Variables\n",
    "x_train, x_test, y_train, y_test = train_test_split(x_standard_scaled, y, test_size=0.3, random_state=49)\n",
    "\n",
    "# Build a Linear Regression model for predicting the future rainfall.\n",
    "model = LinearRegression().fit(x_train,y_train)\n",
    "\n",
    "# Predict the output\n",
    "y_pred = model.predict(x_test) #using the input testing values, we predict the output\n",
    "\n",
    "# Plot the data points\n",
    "plt.scatter(x_test, y_test, color='blue', label='Actual Data')\n",
    "\n",
    "# Plot the regression line\n",
    "plt.plot(x_test, y_pred, color='magenta', linewidth=2, label='Regression Line')\n",
    "\n",
    "# Add labels and title\n",
    "plt.xlabel('Input (YEAR)')\n",
    "plt.ylabel('Output (Rainfall in June)')\n",
    "plt.title('Linear Regression: Actual vs Predicted')\n",
    "\n",
    "# Show legend\n",
    "plt.legend()\n",
    "\n",
    "# Show the plot\n",
    "plt.show()\n",
    "\n",
    "# Calculate Mean Absolute Error (MAE)\n",
    "mae = mean_absolute_error(y_test, y_pred)\n",
    "\n",
    "# Calculate Mean Squared Error (MSE)\n",
    "mse = mean_squared_error(y_test, y_pred)\n",
    "\n",
    "# Calculate Root Mean Squared Error (RMSE)\n",
    "rmse = np.sqrt(mse)\n",
    "\n",
    "# Display the evaluation metrics\n",
    "print(f\"Mean Absolute Error (MAE): {mae}\")\n",
    "print(f\"Mean Squared Error (MSE): {mse}\")\n",
    "print(f\"Root Mean Squared Error (RMSE): {rmse}\")"
   ]
  },
  {
   "cell_type": "markdown",
   "metadata": {},
   "source": [
    "Applying Linear Regression on MinMax Scaled data."
   ]
  },
  {
   "cell_type": "code",
   "execution_count": 29,
   "metadata": {},
   "outputs": [
    {
     "name": "stdout",
     "output_type": "stream",
     "text": [
      "x =       YEAR\n",
      "0    1901\n",
      "1    1902\n",
      "2    1903\n",
      "3    1904\n",
      "4    1905\n",
      "..    ...\n",
      "112  2011\n",
      "113  2012\n",
      "114  2013\n",
      "115  2014\n",
      "116  2015\n",
      "\n",
      "[115 rows x 1 columns]\n",
      "y =  0       22.7\n",
      "1       59.9\n",
      "2       26.2\n",
      "3       53.4\n",
      "4       23.1\n",
      "       ...  \n",
      "112    119.5\n",
      "113     21.7\n",
      "114    155.0\n",
      "115     31.3\n",
      "116     90.6\n",
      "Name: Rainfall in June, Length: 115, dtype: float64\n"
     ]
    }
   ],
   "source": [
    "# INPUT(x) - YEAR\n",
    "# OUTPUT(y) - Rainfall in June\n",
    "x = df[[year]]\n",
    "print(\"x = \", x)\n",
    "y = df[rainfall]\n",
    "print(\"y = \", y)"
   ]
  },
  {
   "cell_type": "code",
   "execution_count": 30,
   "metadata": {},
   "outputs": [],
   "source": [
    "# Apply Standard Scaling\n",
    "scaler = MinMaxScaler()\n",
    "x_minmax_scaled = scaler.fit_transform(x)\n",
    "\n",
    "# First for 80-20 split\n",
    "x_train, x_test, y_train, y_test = train_test_split(x_minmax_scaled, y, test_size=0.2, random_state=9)"
   ]
  },
  {
   "cell_type": "code",
   "execution_count": 31,
   "metadata": {},
   "outputs": [
    {
     "data": {
      "image/png": "[encoded data removed]",
      "text/plain": [
       "<Figure size 640x480 with 1 Axes>"
      ]
     },
     "metadata": {},
     "output_type": "display_data"
    },
    {
     "name": "stdout",
     "output_type": "stream",
     "text": [
      "Mean Absolute Error (MAE): 24.717556093525598\n",
      "Mean Squared Error (MSE): 1111.048148536946\n",
      "Root Mean Squared Error (RMSE): 33.33238888134101\n"
     ]
    }
   ],
   "source": [
    "# Build a Linear Regression model for predicting the future rainfall.\n",
    "model = LinearRegression().fit(x_train,y_train)\n",
    "\n",
    "# Predict the output\n",
    "y_pred = model.predict(x_test) #using the input testing values, we predict the output\n",
    "\n",
    "# Plot the data points\n",
    "plt.scatter(x_test, y_test, color='blue', label='Actual Data')\n",
    "\n",
    "# Plot the regression line\n",
    "plt.plot(x_test, y_pred, color='magenta', linewidth=2, label='Regression Line')\n",
    "\n",
    "# Add labels and title\n",
    "plt.xlabel('Input (YEAR)')\n",
    "plt.ylabel('Output (Rainfall in June)')\n",
    "plt.title('Linear Regression: Actual vs Predicted')\n",
    "\n",
    "# Show legend\n",
    "plt.legend()\n",
    "\n",
    "# Show the plot\n",
    "plt.show()\n",
    "\n",
    "# Calculate Mean Absolute Error (MAE)\n",
    "mae = mean_absolute_error(y_test, y_pred)\n",
    "\n",
    "# Calculate Mean Squared Error (MSE)\n",
    "mse = mean_squared_error(y_test, y_pred)\n",
    "\n",
    "# Calculate Root Mean Squared Error (RMSE)\n",
    "rmse = np.sqrt(mse)\n",
    "\n",
    "# Display the evaluation metrics\n",
    "print(f\"Mean Absolute Error (MAE): {mae}\")\n",
    "print(f\"Mean Squared Error (MSE): {mse}\")\n",
    "print(f\"Root Mean Squared Error (RMSE): {rmse}\")"
   ]
  },
  {
   "cell_type": "code",
   "execution_count": 32,
   "metadata": {},
   "outputs": [
    {
     "data": {
      "image/png": "[encoded data removed]",
      "text/plain": [
       "<Figure size 640x480 with 1 Axes>"
      ]
     },
     "metadata": {},
     "output_type": "display_data"
    },
    {
     "name": "stdout",
     "output_type": "stream",
     "text": [
      "Mean Absolute Error (MAE): 28.6334725410749\n",
      "Mean Squared Error (MSE): 1295.512490281411\n",
      "Root Mean Squared Error (RMSE): 35.993228394816306\n"
     ]
    }
   ],
   "source": [
    "# Same operations as above but using 70-30 split\n",
    "\n",
    "# TRAIN and TEST Variables\n",
    "x_train, x_test, y_train, y_test = train_test_split(x_minmax_scaled, y, test_size=0.3, random_state=94)\n",
    "\n",
    "# Build a Linear Regression model for predicting the future rainfall.\n",
    "model = LinearRegression().fit(x_train,y_train)\n",
    "\n",
    "# Predict the output\n",
    "y_pred = model.predict(x_test) #using the input testing values, we predict the output\n",
    "\n",
    "# Plot the data points\n",
    "plt.scatter(x_test, y_test, color='blue', label='Actual Data')\n",
    "\n",
    "# Plot the regression line\n",
    "plt.plot(x_test, y_pred, color='magenta', linewidth=2, label='Regression Line')\n",
    "\n",
    "# Add labels and title\n",
    "plt.xlabel('Input (YEAR)')\n",
    "plt.ylabel('Output (Rainfall in June)')\n",
    "plt.title('Linear Regression: Actual vs Predicted')\n",
    "\n",
    "# Show legend\n",
    "plt.legend()\n",
    "\n",
    "# Show the plot\n",
    "plt.show()\n",
    "\n",
    "# Calculate Mean Absolute Error (MAE)\n",
    "mae = mean_absolute_error(y_test, y_pred)\n",
    "\n",
    "# Calculate Mean Squared Error (MSE)\n",
    "mse = mean_squared_error(y_test, y_pred)\n",
    "\n",
    "# Calculate Root Mean Squared Error (RMSE)\n",
    "rmse = np.sqrt(mse)\n",
    "\n",
    "# Display the evaluation metrics\n",
    "print(f\"Mean Absolute Error (MAE): {mae}\")\n",
    "print(f\"Mean Squared Error (MSE): {mse}\")\n",
    "print(f\"Root Mean Squared Error (RMSE): {rmse}\")"
   ]
  }
 ],
 "metadata": {
  "kernelspec": {
   "display_name": "Python 3",
   "language": "python",
   "name": "python3"
  },
  "language_info": {
   "codemirror_mode": {
    "name": "ipython",
    "version": 3
   },
   "file_extension": ".py",
   "mimetype": "text/x-python",
   "name": "python",
   "nbconvert_exporter": "python",
   "pygments_lexer": "ipython3",
   "version": "3.11.1"
  }
 },
 "nbformat": 4,
 "nbformat_minor": 2
}
